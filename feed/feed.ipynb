{
 "cells": [
  {
   "cell_type": "code",
   "execution_count": 206,
   "metadata": {},
   "outputs": [],
   "source": [
    "# import random\n",
    "# # Generate additional ingredients up to 'ingredient_50'\n",
    "# ingredient_dict = {}\n",
    "\n",
    "# for i in range(1, 100):\n",
    "#     ingredient_name = f'ingredient_{i}'\n",
    "#     ingredient_dict[ingredient_name] = {\n",
    "#         'dm': random.uniform(85, 93),\n",
    "#         'cp': random.uniform(8, 15),\n",
    "#         'cf': random.uniform(5, 13),\n",
    "#         'ca': random.uniform(0.05, 0.2),\n",
    "#         'p': random.uniform(0.2, 1),\n",
    "#         'me': random.uniform(3000, 3500),\n",
    "#         'lysine': random.uniform(0.1, 1),\n",
    "#         'methionine': random.uniform(0.05, 0.5),\n",
    "#         'cost': random.uniform(20, 100),\n",
    "#         'min': random.uniform(0, 0),\n",
    "#         'max': random.uniform(0, 1),\n",
    "\n",
    "#     }\n",
    "    \n",
    "\n",
    "# # Print the generated ingredients\n",
    "# for ingredient, values in ingredient_dict.items():\n",
    "#     print(f\"{ingredient}: {values}\")"
   ]
  },
  {
   "cell_type": "code",
   "execution_count": 220,
   "metadata": {},
   "outputs": [
    {
     "name": "stdout",
     "output_type": "stream",
     "text": [
      "Defaulting to user installation because normal site-packages is not writeable\n",
      "Collecting gurobipy\n",
      "  Downloading gurobipy-11.0.0-cp311-cp311-manylinux2014_x86_64.manylinux_2_17_x86_64.whl.metadata (15 kB)\n",
      "Downloading gurobipy-11.0.0-cp311-cp311-manylinux2014_x86_64.manylinux_2_17_x86_64.whl (13.4 MB)\n",
      "\u001b[2K   \u001b[38;2;114;156;31m━━━━━━━━━━━━━━━━━━━━━━━━━━━━━━━━━━━━━━━━\u001b[0m \u001b[32m13.4/13.4 MB\u001b[0m \u001b[31m557.6 kB/s\u001b[0m eta \u001b[36m0:00:00\u001b[0mm eta \u001b[36m0:00:01\u001b[0m[36m0:00:01\u001b[0m\n",
      "\u001b[?25hInstalling collected packages: gurobipy\n",
      "Successfully installed gurobipy-11.0.0\n",
      "Note: you may need to restart the kernel to use updated packages.\n"
     ]
    }
   ],
   "source": [
    "pip install gurobipy"
   ]
  },
  {
   "cell_type": "code",
   "execution_count": null,
   "metadata": {},
   "outputs": [],
   "source": []
  },
  {
   "cell_type": "code",
   "execution_count": 207,
   "metadata": {},
   "outputs": [],
   "source": [
    "import numpy as np\n",
    "from pulp import *"
   ]
  },
  {
   "cell_type": "code",
   "execution_count": 208,
   "metadata": {},
   "outputs": [],
   "source": [
    "# nutrients=['DM', 'CP', 'CF', 'Ca', 'P', 'ME', 'Lysine', 'Methionine', 'cost', 'max', 'min']\n",
    "# data={}\n",
    "\n",
    "# while True:\n",
    "#     nutrient_dict={}\n",
    "#     ingridient_d=input('Nutrient')\n",
    "#     for nutrient in nutrients:\n",
    "#         value=input(f'{nutrient} value')\n",
    "#         nutrient_dict[nutrient]=value\n",
    "#     data[ingridient_d]=nutrient_dict\n",
    "#     check=input('y/n')\n",
    "#     if check!='y':\n",
    "#         break\n",
    "\n",
    "# print(data)\n"
   ]
  },
  {
   "cell_type": "code",
   "execution_count": 209,
   "metadata": {},
   "outputs": [],
   "source": [
    "\n",
    "ingredients_x = {'Maize':{'DM%': 88, 'CP%': 8, 'CF%': 12, 'Ca%': 0.17, 'P%': 0.55, 'ME Kcal/kg': 3000, 'Lysine %': 0.53, 'Methionine %': 0.29, 'min': 5, 'max': 15, 'cost': 23.189546668256277},\n",
    "'Maize bran':{'DM%': 88, 'CP%': 9.4, 'CF%': 13, 'Ca%': 0.04, 'P%': 1.03, 'ME Kcal/kg': 2200, 'Lysine %': 0.18, 'Methionine %': 0.21, 'min': 2, 'max': 10, 'cost': 21.87697106165995},\n",
    "'Maize/cob meal':{'DM%': 88, 'CP%': 7, 'CF%': 8, 'Ca%': 0, 'P%': 0.3, 'ME Kcal/kg': 0, 'Lysine %': 0, 'Methionine %': 0, 'min': 0, 'max': 5, 'cost': 12.15409672533318},\n",
    "'Rice bran':{'DM%': 88, 'CP%': 13.5, 'CF%': 6.5, 'Ca%': 0.06, 'P%': 1.43, 'ME Kcal/kg': 3000, 'Lysine %': 0.5, 'Methionine %': 0.22, 'min': 2, 'max': 8, 'cost': 19.744125331958898},\n",
    "'Cassava meal':{'DM%': 88, 'CP%': 2.8, 'CF%': 4.0, 'Ca%': 0.3, 'P%': 0.05, 'ME Kcal/kg': 3000, 'Lysine %': 0, 'Methionine %': 0, 'min': 1, 'max': 5, 'cost': 15.900467964335567},\n",
    "'Molasses':{'DM%': 75, 'CP%': 3.0, 'CF%': 0, 'Ca%': 0.75, 'P%': 0.08, 'ME Kcal/kg': 2330, 'Lysine %': 0, 'Methionine %': 0, 'min': 0, 'max': 2, 'cost': 9.74283188303314},\n",
    "'Millet':{'DM%': 88, 'CP%': 10.5, 'CF%': 2.0, 'Ca%': 0.05, 'P%': 0.4, 'ME Kcal/kg': 1392, 'Lysine %': 0.2, 'Methionine %': 0.27, 'min': 1, 'max': 5, 'cost': 10.501038943788405},\n",
    "'Sorghum':{'DM%': 88, 'CP%': 9.0, 'CF%': 2.1, 'Ca%': 0.03, 'P%': 0.28, 'ME Kcal/kg': 3250, 'Lysine %': 0.2, 'Methionine %': 0.12, 'min': 1, 'max': 4, 'cost': 21.282265115752498},\n",
    "'Fish meal':{'DM%': 88, 'CP%': 60.0, 'CF%': 1.0, 'Ca%': 4.37, 'P%': 2.53, 'ME Kcal/kg': 2310, 'Lysine %': 4.08, 'Methionine %': 1.7, 'min': 30, 'max': 70, 'cost': 95.35340164406743},\n",
    "'Blood meal':{'DM%': 92, 'CP%': 72.9, 'CF%': 1.7, 'Ca%': 0.28, 'P%': 0.22, 'ME Kcal/kg': 1177, 'Lysine %': 7.0, 'Methionine %': 0.9, 'min': 40, 'max': 80, 'cost': 83.85814098883452},\n",
    "'Cotton seed cake':{'DM%': 88, 'CP%': 40.0, 'CF%': 14, 'Ca%': 0.2, 'P%': 1.2, 'ME Kcal/kg': 968, 'Lysine %': 1.6, 'Methionine %': 0.52, 'min': 30, 'max': 50, 'cost': 48.7539532170818},\n",
    "'Soya bean meal':{'DM%': 88, 'CP%': 43.0, 'CF%': 6, 'Ca%': 0.53, 'P%': 0.64, 'ME Kcal/kg': 2800, 'Lysine %': 2.84, 'Methionine %': 0.65, 'min': 30, 'max': 50, 'cost': 79.64411128049252},\n",
    "'Limestone':{'DM%': 98, 'CP%': 0, 'CF%': 0, 'Ca%': 38.0, 'P%': 0, 'ME Kcal/kg': 0, 'Lysine %': 0, 'Methionine %': 0, 'min': 30, 'max': 40, 'cost': 14.450768262846697},\n",
    "'Oyster shells':{'DM%': 98, 'CP%': 0, 'CF%': 0, 'Ca%': 35.0, 'P%': 0, 'ME Kcal/kg': 0, 'Lysine %': 0, 'Methionine %': 0, 'min': 25, 'max': 35, 'cost': 17.437072492457933},\n",
    "'Wheat pollard':{'DM%': 98, 'CP%': 15.0, 'CF%': 0, 'Ca%': 0, 'P%': 0, 'ME Kcal/kg': 0, 'Lysine %': 0.6, 'Methionine %': 0.0, 'min': 10, 'max': 20, 'cost': 38.212601422729875},}\n",
    "\n",
    "nutrient_requirements = {\n",
    "    'DM%': {'min': 80, 'max': 92},\n",
    "    'CP%': {'min': 22, 'max': 50},\n",
    "    'CF%': {'min': 0, 'max': 7.5},\n",
    "    'Ca%': {'min': 0.9, 'max': 1},\n",
    "    'ME Kcal/kg': {'min': 3000, 'max': 3400},\n",
    "    'Lysine %': {'min': 1.2, 'max': 5},\n",
    "    'Methionine %': {'min': 0.6, 'max': 2},\n",
    "\n",
    "}\n"
   ]
  },
  {
   "cell_type": "code",
   "execution_count": 210,
   "metadata": {},
   "outputs": [],
   "source": [
    "\n",
    "status=''\n",
    "total_nutrient={}\n",
    "not_satisfied={}\n",
    "context={}\n",
    "# def feed_fomulate():\n",
    "# global status\n",
    "# Extracting ingredient names\n",
    "ingredient_names = list(ingredients_x.keys())\n",
    "\n",
    "# Create NumPy arrays for coefficients\n",
    "costs = np.array([ingredients_x[i][\"cost\"] for i in ingredient_names])\n",
    "nutrient_matrix = np.array([[ingredients_x[i][nutrient] for i in ingredient_names] for nutrient in nutrient_requirements])\n",
    "\n",
    "# Decision variables\n",
    "ingredients = LpVariable.dicts(\"ingredient\", ingredient_names, lowBound=0, cat=\"Continuous\")\n",
    "\n",
    "# Create the optimization problem\n",
    "prob = LpProblem(name='feed_fomulate', sense=LpMinimize)"
   ]
  },
  {
   "cell_type": "code",
   "execution_count": 211,
   "metadata": {},
   "outputs": [],
   "source": [
    "# Objective function\n",
    "prob += lpSum(costs * np.array([ingredients[i] for i in ingredient_names]))"
   ]
  },
  {
   "cell_type": "code",
   "execution_count": 212,
   "metadata": {},
   "outputs": [
    {
     "name": "stdout",
     "output_type": "stream",
     "text": [
      "83.85814098883452*ingredient_Blood_meal + 15.900467964335567*ingredient_Cassava_meal + 48.7539532170818*ingredient_Cotton_seed_cake + 95.35340164406743*ingredient_Fish_meal + 14.450768262846697*ingredient_Limestone + 23.189546668256277*ingredient_Maize + 21.87697106165995*ingredient_Maize_bran + 12.15409672533318*ingredient_Maize_cob_meal + 10.501038943788405*ingredient_Millet + 9.74283188303314*ingredient_Molasses + 17.437072492457933*ingredient_Oyster_shells + 19.744125331958898*ingredient_Rice_bran + 21.282265115752498*ingredient_Sorghum + 79.64411128049252*ingredient_Soya_bean_meal + 38.212601422729875*ingredient_Wheat_pollard\n"
     ]
    }
   ],
   "source": [
    "print(prob.objective)"
   ]
  },
  {
   "cell_type": "code",
   "execution_count": null,
   "metadata": {},
   "outputs": [],
   "source": []
  },
  {
   "cell_type": "code",
   "execution_count": 213,
   "metadata": {},
   "outputs": [],
   "source": [
    "#constraints\n",
    "# Nutrient constraints (vectorized)\n",
    "for nutrient in nutrient_requirements:\n",
    "    nutrient_values = np.array([ingredients_x[i][nutrient] for i in ingredient_names])\n",
    "    prob += lpSum(nutrient_values @ np.array([ingredients[i] for i in ingredient_names])) >= nutrient_requirements[nutrient]['min'], f\"{nutrient}_min\"\n",
    "    prob += lpSum(nutrient_values @ np.array([ingredients[i] for i in ingredient_names])) <= nutrient_requirements[nutrient]['max'], f\"{nutrient}_max\"\n",
    "\n",
    "# Total quantity constraint\n",
    "# prob += lpSum(np.array([ingredients[i] for i in ingredient_names])) == 1, \"Total_Quantity\""
   ]
  },
  {
   "cell_type": "code",
   "execution_count": 214,
   "metadata": {},
   "outputs": [
    {
     "name": "stdout",
     "output_type": "stream",
     "text": [
      "OrderedDict([('DM%_min', 92*ingredient_Blood_meal + 88*ingredient_Cassava_meal + 88*ingredient_Cotton_seed_cake + 88*ingredient_Fish_meal + 98*ingredient_Limestone + 88*ingredient_Maize + 88*ingredient_Maize_bran + 88*ingredient_Maize_cob_meal + 88*ingredient_Millet + 75*ingredient_Molasses + 98*ingredient_Oyster_shells + 88*ingredient_Rice_bran + 88*ingredient_Sorghum + 88*ingredient_Soya_bean_meal + 98*ingredient_Wheat_pollard + -80 >= 0), ('DM%_max', 92*ingredient_Blood_meal + 88*ingredient_Cassava_meal + 88*ingredient_Cotton_seed_cake + 88*ingredient_Fish_meal + 98*ingredient_Limestone + 88*ingredient_Maize + 88*ingredient_Maize_bran + 88*ingredient_Maize_cob_meal + 88*ingredient_Millet + 75*ingredient_Molasses + 98*ingredient_Oyster_shells + 88*ingredient_Rice_bran + 88*ingredient_Sorghum + 88*ingredient_Soya_bean_meal + 98*ingredient_Wheat_pollard + -92 <= 0), ('CP%_min', 72.9*ingredient_Blood_meal + 2.8*ingredient_Cassava_meal + 40.0*ingredient_Cotton_seed_cake + 60.0*ingredient_Fish_meal + 8.0*ingredient_Maize + 9.4*ingredient_Maize_bran + 7.0*ingredient_Maize_cob_meal + 10.5*ingredient_Millet + 3.0*ingredient_Molasses + 13.5*ingredient_Rice_bran + 9.0*ingredient_Sorghum + 43.0*ingredient_Soya_bean_meal + 15.0*ingredient_Wheat_pollard + -22.0 >= 0), ('CP%_max', 72.9*ingredient_Blood_meal + 2.8*ingredient_Cassava_meal + 40.0*ingredient_Cotton_seed_cake + 60.0*ingredient_Fish_meal + 8.0*ingredient_Maize + 9.4*ingredient_Maize_bran + 7.0*ingredient_Maize_cob_meal + 10.5*ingredient_Millet + 3.0*ingredient_Molasses + 13.5*ingredient_Rice_bran + 9.0*ingredient_Sorghum + 43.0*ingredient_Soya_bean_meal + 15.0*ingredient_Wheat_pollard + -50.0 <= 0), ('CF%_min', 1.7*ingredient_Blood_meal + 4.0*ingredient_Cassava_meal + 14.0*ingredient_Cotton_seed_cake + 1.0*ingredient_Fish_meal + 12.0*ingredient_Maize + 13.0*ingredient_Maize_bran + 8.0*ingredient_Maize_cob_meal + 2.0*ingredient_Millet + 6.5*ingredient_Rice_bran + 2.1*ingredient_Sorghum + 6.0*ingredient_Soya_bean_meal + 0.0 >= 0), ('CF%_max', 1.7*ingredient_Blood_meal + 4.0*ingredient_Cassava_meal + 14.0*ingredient_Cotton_seed_cake + 1.0*ingredient_Fish_meal + 12.0*ingredient_Maize + 13.0*ingredient_Maize_bran + 8.0*ingredient_Maize_cob_meal + 2.0*ingredient_Millet + 6.5*ingredient_Rice_bran + 2.1*ingredient_Sorghum + 6.0*ingredient_Soya_bean_meal + -7.5 <= 0), ('Ca%_min', 0.28*ingredient_Blood_meal + 0.3*ingredient_Cassava_meal + 0.2*ingredient_Cotton_seed_cake + 4.37*ingredient_Fish_meal + 38.0*ingredient_Limestone + 0.17*ingredient_Maize + 0.04*ingredient_Maize_bran + 0.05*ingredient_Millet + 0.75*ingredient_Molasses + 35.0*ingredient_Oyster_shells + 0.06*ingredient_Rice_bran + 0.03*ingredient_Sorghum + 0.53*ingredient_Soya_bean_meal + -0.9 >= 0), ('Ca%_max', 0.28*ingredient_Blood_meal + 0.3*ingredient_Cassava_meal + 0.2*ingredient_Cotton_seed_cake + 4.37*ingredient_Fish_meal + 38.0*ingredient_Limestone + 0.17*ingredient_Maize + 0.04*ingredient_Maize_bran + 0.05*ingredient_Millet + 0.75*ingredient_Molasses + 35.0*ingredient_Oyster_shells + 0.06*ingredient_Rice_bran + 0.03*ingredient_Sorghum + 0.53*ingredient_Soya_bean_meal + -1.0 <= 0), ('ME_Kcal/kg_min', 1177*ingredient_Blood_meal + 3000*ingredient_Cassava_meal + 968*ingredient_Cotton_seed_cake + 2310*ingredient_Fish_meal + 3000*ingredient_Maize + 2200*ingredient_Maize_bran + 1392*ingredient_Millet + 2330*ingredient_Molasses + 3000*ingredient_Rice_bran + 3250*ingredient_Sorghum + 2800*ingredient_Soya_bean_meal + -3000 >= 0), ('ME_Kcal/kg_max', 1177*ingredient_Blood_meal + 3000*ingredient_Cassava_meal + 968*ingredient_Cotton_seed_cake + 2310*ingredient_Fish_meal + 3000*ingredient_Maize + 2200*ingredient_Maize_bran + 1392*ingredient_Millet + 2330*ingredient_Molasses + 3000*ingredient_Rice_bran + 3250*ingredient_Sorghum + 2800*ingredient_Soya_bean_meal + -3400 <= 0), ('Lysine_%_min', 7.0*ingredient_Blood_meal + 1.6*ingredient_Cotton_seed_cake + 4.08*ingredient_Fish_meal + 0.53*ingredient_Maize + 0.18*ingredient_Maize_bran + 0.2*ingredient_Millet + 0.5*ingredient_Rice_bran + 0.2*ingredient_Sorghum + 2.84*ingredient_Soya_bean_meal + 0.6*ingredient_Wheat_pollard + -1.2 >= 0), ('Lysine_%_max', 7.0*ingredient_Blood_meal + 1.6*ingredient_Cotton_seed_cake + 4.08*ingredient_Fish_meal + 0.53*ingredient_Maize + 0.18*ingredient_Maize_bran + 0.2*ingredient_Millet + 0.5*ingredient_Rice_bran + 0.2*ingredient_Sorghum + 2.84*ingredient_Soya_bean_meal + 0.6*ingredient_Wheat_pollard + -5.0 <= 0), ('Methionine_%_min', 0.9*ingredient_Blood_meal + 0.52*ingredient_Cotton_seed_cake + 1.7*ingredient_Fish_meal + 0.29*ingredient_Maize + 0.21*ingredient_Maize_bran + 0.27*ingredient_Millet + 0.22*ingredient_Rice_bran + 0.12*ingredient_Sorghum + 0.65*ingredient_Soya_bean_meal + -0.6 >= 0), ('Methionine_%_max', 0.9*ingredient_Blood_meal + 0.52*ingredient_Cotton_seed_cake + 1.7*ingredient_Fish_meal + 0.29*ingredient_Maize + 0.21*ingredient_Maize_bran + 0.27*ingredient_Millet + 0.22*ingredient_Rice_bran + 0.12*ingredient_Sorghum + 0.65*ingredient_Soya_bean_meal + -2.0 <= 0)])\n"
     ]
    }
   ],
   "source": [
    "print(prob.constraints)"
   ]
  },
  {
   "cell_type": "code",
   "execution_count": 215,
   "metadata": {},
   "outputs": [],
   "source": [
    "# Set solver options to suppress output\n",
    "# solve the problem\n",
    "solve=prob.solve( PULP_CBC_CMD(msg=False))\n",
    "status=LpStatus[solve]"
   ]
  },
  {
   "cell_type": "code",
   "execution_count": 216,
   "metadata": {},
   "outputs": [
    {
     "name": "stdout",
     "output_type": "stream",
     "text": [
      "Constraint: DM%_min\n",
      "Shadow Price: 0.0\n",
      "Slack: -12.0\n",
      "-----\n",
      "Constraint: DM%_max\n",
      "Shadow Price: -2.5414457\n",
      "Slack: -0.0\n",
      "-----\n",
      "Constraint: CP%_min\n",
      "Shadow Price: 0.0\n",
      "Slack: -2.998494000000001\n",
      "-----\n",
      "Constraint: CP%_max\n",
      "Shadow Price: 0.0\n",
      "Slack: 25.001506\n",
      "-----\n",
      "Constraint: CF%_min\n",
      "Shadow Price: 0.0\n",
      "Slack: -7.5\n",
      "-----\n",
      "Constraint: CF%_max\n",
      "Shadow Price: -1.227325\n",
      "Slack: -0.0\n",
      "-----\n",
      "Constraint: Ca%_min\n",
      "Shadow Price: 0.0\n",
      "Slack: -0.09999999999999998\n",
      "-----\n",
      "Constraint: Ca%_max\n",
      "Shadow Price: -50.174106\n",
      "Slack: -0.0\n",
      "-----\n",
      "Constraint: ME_Kcal/kg_min\n",
      "Shadow Price: 0.068329949\n",
      "Slack: -0.0\n",
      "-----\n",
      "Constraint: ME_Kcal/kg_max\n",
      "Shadow Price: 0.0\n",
      "Slack: 400.0\n",
      "-----\n",
      "Constraint: Lysine_%_min\n",
      "Shadow Price: 0.0\n",
      "Slack: -0.36788719999999997\n",
      "-----\n",
      "Constraint: Lysine_%_max\n",
      "Shadow Price: 0.0\n",
      "Slack: 3.4321128\n",
      "-----\n",
      "Constraint: Methionine_%_min\n",
      "Shadow Price: 224.49801\n",
      "Slack: -0.0\n",
      "-----\n",
      "Constraint: Methionine_%_max\n",
      "Shadow Price: 0.0\n",
      "Slack: 1.4\n",
      "-----\n"
     ]
    }
   ],
   "source": [
    "for constraint_name, constraint in prob.constraints.items():\n",
    "    print(f\"Constraint: {constraint_name}\")\n",
    "    # print(f\"Status: {LpStatus[prob.constraints[constraint_name].status]}\")\n",
    "    print(f\"Shadow Price: {prob.constraints[constraint_name].pi}\")\n",
    "    print(f\"Slack: {prob.constraints[constraint_name].slack}\")\n",
    "    print(\"-----\")"
   ]
  },
  {
   "cell_type": "code",
   "execution_count": 217,
   "metadata": {},
   "outputs": [
    {
     "name": "stdout",
     "output_type": "stream",
     "text": [
      "Maize: 0.42045689 kg\n",
      "Maize bran: 0.0 kg\n",
      "Maize/cob meal: 0.0 kg\n",
      "Rice bran: 0.16022421 kg\n",
      "Cassava meal: 0.0 kg\n",
      "Molasses: 0.0 kg\n",
      "Millet: 0.0 kg\n",
      "Sorghum: 0.10982692 kg\n",
      "Fish meal: 0.18945115 kg\n",
      "Blood meal: 0.0 kg\n",
      "Cotton seed cake: 0.0 kg\n",
      "Soya bean meal: 0.16549537 kg\n",
      "Limestone: 0.0 kg\n",
      "Oyster shells: 0.0 kg\n",
      "Wheat pollard: 0.0 kg\n"
     ]
    }
   ],
   "source": [
    "for ingredient in ingredients_x:\n",
    "    print(f\"{ingredient}: {ingredients[ingredient].varValue} kg\")"
   ]
  },
  {
   "cell_type": "code",
   "execution_count": 218,
   "metadata": {},
   "outputs": [
    {
     "name": "stdout",
     "output_type": "stream",
     "text": [
      "{'CP%': 10.708602225, 'Ca%': 10.377389477800001, 'ME Kcal/kg': 1996.6457917, 'Lysine %': 0.5497623314, 'Methionine %': 0.1458249895}\n",
      "{'total_nutrient': {'DM%': 89.28728285, 'CF%': 2.192777735, 'cost': 46.49660044695229}}\n",
      "{'DM%': {'min': 80, 'max': 92}, 'CP%': {'min': 22, 'max': 50}, 'CF%': {'min': 0, 'max': 7.5}, 'Ca%': {'min': 0.9, 'max': 1}, 'ME Kcal/kg': {'min': 3000, 'max': 3400}, 'Lysine %': {'min': 1.2, 'max': 5}, 'Methionine %': {'min': 0.6, 'max': 2}}\n",
      "Rice bran: 0.18945115\n",
      "Molasses: 0.42045689\n",
      "Soya bean meal: 0.16022421\n",
      "Limestone: 0.10982692\n",
      "Oyster shells: 0.16549537\n"
     ]
    }
   ],
   "source": [
    "\n",
    "\n",
    "# update(prob=prob, ingredient_names=ingredient_names)\n",
    "\n",
    "# def update(prob, ingredient_names):\n",
    "for nutrient in nutrient_requirements:\n",
    "    nutrient_values = np.array([ingredients_x[i][nutrient] * variable.value() if variable.value() is not None else 0 for i, variable in zip(ingredient_names, prob.variables())])\n",
    "    nutrient_values= np.sum(nutrient_values)\n",
    "    if nutrient_values <= nutrient_requirements[nutrient]['max'] and nutrient_values >= nutrient_requirements[nutrient]['min']:\n",
    "        total_nutrient[nutrient]=np.sum(nutrient_values)\n",
    "    else:\n",
    "        not_satisfied[nutrient]=np.sum(nutrient_values)\n",
    "if not_satisfied:\n",
    "    if status != 'Optimal':\n",
    "        context['not_satisfied']=not_satisfied\n",
    "    else:\n",
    "        print(not_satisfied)\n",
    "        # feed_fomulate()\n",
    "total_nutrient['cost']=value(prob.objective)\n",
    "context['total_nutrient']=total_nutrient\n",
    "\n",
    "print(context)\n",
    "print(nutrient_requirements)\n",
    "for i, variable in zip(ingredient_names, prob.variables()):\n",
    "    if variable.varValue != 0.0:\n",
    "        print(f\"{i}: {variable.varValue}\")\n",
    "\n",
    "\n",
    "\n",
    "# feed_fomulate()\n"
   ]
  }
 ],
 "metadata": {
  "kernelspec": {
   "display_name": "Python 3",
   "language": "python",
   "name": "python3"
  },
  "language_info": {
   "codemirror_mode": {
    "name": "ipython",
    "version": 3
   },
   "file_extension": ".py",
   "mimetype": "text/x-python",
   "name": "python",
   "nbconvert_exporter": "python",
   "pygments_lexer": "ipython3",
   "version": "3.11.7"
  }
 },
 "nbformat": 4,
 "nbformat_minor": 2
}
